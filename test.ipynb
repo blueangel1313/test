{
 "cells": [
  {
   "cell_type": "markdown",
   "metadata": {
    "id": "view-in-github"
   },
   "source": [
    "[![Open In Colab](https://colab.research.google.com/assets/colab-badge.svg)](https://colab.research.google.com/github/blueangel1313/test/blob/main/test.ipynb)"
   ]
  },
  {
   "cell_type": "code",
   "execution_count": null,
   "metadata": {},
   "outputs": [],
   "source": [
    "!pip install modal\n",
    "!modal token set --token-id TOKEN-ID --token-secret TOKEN-SECRET\n",
    "!wget https://github.com/blueangel1313/test/raw/main/run.py -O /content/run.py\n",
    "!modal run -d /content/run.py"
   ]
  }
 ],
 "metadata": {
  "language_info": {
   "name": "python"
  },
  "orig_nbformat": 4
 },
 "nbformat": 4,
 "nbformat_minor": 2
}
